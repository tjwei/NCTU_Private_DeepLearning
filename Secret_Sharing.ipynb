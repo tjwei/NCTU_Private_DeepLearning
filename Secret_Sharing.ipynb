{
  "nbformat": 4,
  "nbformat_minor": 0,
  "metadata": {
    "kernelspec": {
      "display_name": "Python 3",
      "language": "python",
      "name": "python3"
    },
    "language_info": {
      "codemirror_mode": {
        "name": "ipython",
        "version": 3
      },
      "file_extension": ".py",
      "mimetype": "text/x-python",
      "name": "python",
      "nbconvert_exporter": "python",
      "pygments_lexer": "ipython3",
      "version": "3.6.8"
    },
    "colab": {
      "name": "Secret Sharing",
      "provenance": [],
      "collapsed_sections": [],
      "include_colab_link": true
    }
  },
  "cells": [
    {
      "cell_type": "markdown",
      "metadata": {
        "id": "view-in-github",
        "colab_type": "text"
      },
      "source": [
        "<a href=\"https://colab.research.google.com/github/tjwei/NCTU_Private_DeepLearning/blob/master/Secret_Sharing.ipynb\" target=\"_parent\"><img src=\"https://colab.research.google.com/assets/colab-badge.svg\" alt=\"Open In Colab\"/></a>"
      ]
    },
    {
      "cell_type": "markdown",
      "metadata": {
        "id": "ytcGR8VrDNkn",
        "colab_type": "text"
      },
      "source": [
        "# Additive Secret Sharing\n",
        "\n",
        "Most of the material taken from https://github.com/udacity/private-ai/blob/master/Section%203%20-%20Securing%20Federated%20Learning.ipynb and https://github.com/udacity/private-ai/blob/master/Section%204%20-%20Encrypted%20Deep%20Learning.ipynb\n",
        "\n",
        "For more great information about SMPC protocols like this one, visit https://mortendahl.github.io. "
      ]
    },
    {
      "cell_type": "markdown",
      "metadata": {
        "id": "wD74K2BdEZS3",
        "colab_type": "text"
      },
      "source": [
        "While being able to have a trusted third party is certainly nice, in an ideal setting we wouldn't have to trust anyone at all. This is where Cryptography can provide an interesting alterantive.\n",
        "\n",
        "Specifically, we're going to be looking at a simple protocol for Secure Multi-Party Computation called Additive Secret Sharing. This protocol will allow multiple parties (of size 3 or more) to aggregate their gradients without the use of a trusted 3rd party to perform the aggregation. In other words, we can add 3 numbers together from 3 different people without anyone ever learning the inputs of any other actors.\n",
        "\n",
        "Let's start by considering the number 5, which we'll put into a varible x"
      ]
    },
    {
      "cell_type": "code",
      "metadata": {
        "id": "g4xPtg4zEVKl",
        "colab_type": "code",
        "colab": {}
      },
      "source": [
        "x = 5"
      ],
      "execution_count": 0,
      "outputs": []
    },
    {
      "cell_type": "markdown",
      "metadata": {
        "id": "fRVocFUFE2xA",
        "colab_type": "text"
      },
      "source": [
        "Let's say we wanted to SHARE the ownership of this number between two people, Alice and Bob. We could split this number into two shares, 2, and 3, and give one to Alice and one to Bob"
      ]
    },
    {
      "cell_type": "code",
      "metadata": {
        "id": "O-FH8CcnEnd9",
        "colab_type": "code",
        "colab": {
          "base_uri": "https://localhost:8080/",
          "height": 34
        },
        "outputId": "c8bbd29e-5aec-423c-8242-7a3c657f09ac"
      },
      "source": [
        "bob_x_share = 2\n",
        "alice_x_share = 3\n",
        "\n",
        "decrypted_x = bob_x_share + alice_x_share\n",
        "decrypted_x"
      ],
      "execution_count": 1,
      "outputs": [
        {
          "output_type": "execute_result",
          "data": {
            "text/plain": [
              "5"
            ]
          },
          "metadata": {
            "tags": []
          },
          "execution_count": 1
        }
      ]
    },
    {
      "cell_type": "markdown",
      "metadata": {
        "id": "beqh9Rb6E72v",
        "colab_type": "text"
      },
      "source": [
        "Note that neither Bob nor Alice know the value of x. They only know the value of their own SHARE of x. Thus, the true value of X is hidden (i.e., encrypted).\n",
        "\n",
        "The truly amazing thing, however, is that Alice and Bob can still compute using this value! They can perform arithmetic over the hidden value! Let's say Bob and Alice wanted to multiply this value by 2! If each of them multiplied their respective share by 2, then the hidden number between them is also multiplied! Check it out!"
      ]
    },
    {
      "cell_type": "code",
      "metadata": {
        "id": "FwylkrXPE6wk",
        "colab_type": "code",
        "colab": {
          "base_uri": "https://localhost:8080/",
          "height": 34
        },
        "outputId": "3ae515ce-0c8a-4744-9324-d3dd06abaaf7"
      },
      "source": [
        "bob_x_share = 2 * 2\n",
        "alice_x_share = 3 * 2\n",
        "\n",
        "decrypted_x = bob_x_share + alice_x_share\n",
        "decrypted_x"
      ],
      "execution_count": 2,
      "outputs": [
        {
          "output_type": "execute_result",
          "data": {
            "text/plain": [
              "10"
            ]
          },
          "metadata": {
            "tags": []
          },
          "execution_count": 2
        }
      ]
    },
    {
      "cell_type": "markdown",
      "metadata": {
        "id": "ENDs2jckFJLL",
        "colab_type": "text"
      },
      "source": [
        "This even works for addition between two shared values!!\n",
        "\n"
      ]
    },
    {
      "cell_type": "code",
      "metadata": {
        "id": "OqCY4OVrFFKF",
        "colab_type": "code",
        "colab": {
          "base_uri": "https://localhost:8080/",
          "height": 34
        },
        "outputId": "6f7a11be-0489-47df-f086-040a709a408c"
      },
      "source": [
        "# encrypted \"5\"\n",
        "bob_x_share = 2\n",
        "alice_x_share = 3\n",
        "\n",
        "# encrypted \"7\"\n",
        "bob_y_share = 5\n",
        "alice_y_share = 2\n",
        "\n",
        "# encrypted 5 + 7\n",
        "bob_z_share = bob_x_share + bob_y_share\n",
        "alice_z_share = alice_x_share + alice_y_share\n",
        "\n",
        "decrypted_z = bob_z_share + alice_z_share\n",
        "decrypted_z"
      ],
      "execution_count": 3,
      "outputs": [
        {
          "output_type": "execute_result",
          "data": {
            "text/plain": [
              "12"
            ]
          },
          "metadata": {
            "tags": []
          },
          "execution_count": 3
        }
      ]
    },
    {
      "cell_type": "markdown",
      "metadata": {
        "id": "IdqesyR3FN8R",
        "colab_type": "text"
      },
      "source": [
        "As you can see, we just added two numbers together while they were still encrypted!!!\n",
        "\n",
        "One small tweak - notice that since all our numbers are positive, it's possible for each share to reveal a little bit of information about the hidden value, namely, it's always greater than the share. Thus, if Bob has a share \"3\" then he knows that the encrypted value is at least 3.\n",
        "\n",
        "This would be quite bad, but can be solved through a simple fix. Decryption happens by summing all the shares together MODULUS some constant. I.e."
      ]
    },
    {
      "cell_type": "code",
      "metadata": {
        "id": "wm3UCnPaFNGh",
        "colab_type": "code",
        "colab": {
          "base_uri": "https://localhost:8080/",
          "height": 34
        },
        "outputId": "7b164793-5064-4076-9b15-77db00141812"
      },
      "source": [
        "x = 5\n",
        "\n",
        "Q = 23740629843760239486723\n",
        "\n",
        "bob_x_share = 23552870267 # <- a random number\n",
        "alice_x_share = Q - bob_x_share + x\n",
        "alice_x_share"
      ],
      "execution_count": 4,
      "outputs": [
        {
          "output_type": "execute_result",
          "data": {
            "text/plain": [
              "23740629843736686616461"
            ]
          },
          "metadata": {
            "tags": []
          },
          "execution_count": 4
        }
      ]
    },
    {
      "cell_type": "code",
      "metadata": {
        "id": "DKGIzS79FWqN",
        "colab_type": "code",
        "colab": {
          "base_uri": "https://localhost:8080/",
          "height": 34
        },
        "outputId": "a5b18fbd-eff7-4b77-ca09-bf95ad4b3f80"
      },
      "source": [
        "(bob_x_share + alice_x_share) % Q"
      ],
      "execution_count": 5,
      "outputs": [
        {
          "output_type": "execute_result",
          "data": {
            "text/plain": [
              "5"
            ]
          },
          "metadata": {
            "tags": []
          },
          "execution_count": 5
        }
      ]
    },
    {
      "cell_type": "markdown",
      "metadata": {
        "id": "vBeNxzyKFdB4",
        "colab_type": "text"
      },
      "source": [
        "So now, as you can see, both shares are wildly larger than the number being shared, meaning that individual shares no longer leak this inforation. However, all the properties we discussed earlier still hold! (addition, encryption, decryption, etc.)"
      ]
    },
    {
      "cell_type": "markdown",
      "metadata": {
        "id": "6Tdl_5CmFfcA",
        "colab_type": "text"
      },
      "source": [
        "# Project: Build Methods for Encrypt, Decrypt, and Add\n",
        "In this project, you must take the lessons we learned in the last section and write general methods for encrypt, decrypt, and add. Store shares for a variable in a tuple like ```x_share = (2,5,7)``` if it has 3 shares.\n",
        "\n"
      ]
    },
    {
      "cell_type": "code",
      "metadata": {
        "id": "p7WFdNsaFbv-",
        "colab_type": "code",
        "colab": {}
      },
      "source": [
        "import random\n",
        "import numpy as np\n",
        "# try this project here!\n",
        "default_Q = 293973345475167247070445277780365744413\n",
        "\n",
        "def encrypt(x, n_shares=3, Q=default_Q):\n",
        "  # complete the code here\n",
        "  return x_shares\n",
        "\n",
        "\n",
        "def decrypt(x_shares, Q=default_Q):\n",
        "  # complete the code here\n",
        "  return x\n",
        "\n",
        "def add(x_shares, y_shares, Q=default_Q):\n",
        "  # complete the code here\n",
        "  return z_shares\n",
        "\n",
        "\n",
        "\n"
      ],
      "execution_count": 0,
      "outputs": []
    },
    {
      "cell_type": "code",
      "metadata": {
        "id": "bSyGzo0QHdKS",
        "colab_type": "code",
        "colab": {}
      },
      "source": [
        "# a few simple tests\n",
        "assert decrypt(encrypt(113))==113\n",
        "assert decrypt(add(encrypt(5), encrypt(6)))==11"
      ],
      "execution_count": 0,
      "outputs": []
    },
    {
      "cell_type": "markdown",
      "metadata": {
        "id": "_jlPTx4XH8-R",
        "colab_type": "text"
      },
      "source": [
        "# Project: Fixed Precision Encoding\n",
        "\n",
        "As you may remember, our goal is to aggregate gradients using this new Secret Sharing technique. However, the protocol we've just explored in the last section uses positive integers. However, our neural network weights are NOT integers. Instead, our weights are decimals (floating point numbers).\n",
        "\n",
        "Not a huge deal! We just need to use a fixed precision encoding, which lets us do computation over decimal numbers using integers!"
      ]
    },
    {
      "cell_type": "code",
      "metadata": {
        "id": "Qhi92G1NDNko",
        "colab_type": "code",
        "colab": {}
      },
      "source": [
        "# complete the following code\n",
        "import random\n",
        "import numpy as np\n",
        "\n",
        "BASE = 10\n",
        "\n",
        "PRECISION_INTEGRAL = 8\n",
        "PRECISION_FRACTIONAL = 8\n",
        "\n",
        "PRECISION = PRECISION_INTEGRAL + PRECISION_FRACTIONAL\n",
        "\n",
        "#default_Q = 293973345475167247070445277780365744413\n",
        "assert(default_Q > BASE**PRECISION)\n",
        "\n",
        "# note that a rational might be negative\n",
        "# encode and decode rationals to field_element\n",
        "def encode(rational, Q=default_Q):\n",
        "    # complete code here\n",
        "    return field_element\n",
        "\n",
        "def decode(field_element, Q=default_Q):\n",
        "    # complete code here\n",
        "    return rational\n"
      ],
      "execution_count": 0,
      "outputs": []
    },
    {
      "cell_type": "code",
      "metadata": {
        "id": "KROzJUK5DNkr",
        "colab_type": "code",
        "outputId": "75c40a93-827b-472f-9881-7335d3b768f0",
        "colab": {}
      },
      "source": [
        "# testing\n",
        "x = encrypt(encode(5.5))\n",
        "y = encrypt(encode(2.3))\n",
        "z = add(x,y)\n",
        "decode(decrypt(z))"
      ],
      "execution_count": 0,
      "outputs": [
        {
          "output_type": "execute_result",
          "data": {
            "text/plain": [
              "[157261321043261917823065844237599434634,\n",
              " 132977400494673236547132219369279939003,\n",
              " 3734623937232092700247214174036370776]"
            ]
          },
          "metadata": {
            "tags": []
          },
          "execution_count": 2
        }
      ]
    },
    {
      "cell_type": "markdown",
      "metadata": {
        "id": "cdnDKZPcDNk1",
        "colab_type": "text"
      },
      "source": [
        "# Lesson: Encrypted Subtraction and Public/Scalar Multiplication"
      ]
    },
    {
      "cell_type": "code",
      "metadata": {
        "id": "-F9cqWZ7DNk3",
        "colab_type": "code",
        "colab": {}
      },
      "source": [
        "field = 23740629843760239486723"
      ],
      "execution_count": 0,
      "outputs": []
    },
    {
      "cell_type": "code",
      "metadata": {
        "id": "BRNeIfAcDNk5",
        "colab_type": "code",
        "colab": {}
      },
      "source": [
        "x = 5\n",
        "\n",
        "bob_x_share = 2372385723 # random number\n",
        "alices_x_share = field - bob_x_share + x"
      ],
      "execution_count": 0,
      "outputs": []
    },
    {
      "cell_type": "code",
      "metadata": {
        "id": "gdtCDefdDNk7",
        "colab_type": "code",
        "outputId": "9ec89b52-8f0b-4d5d-ccab-00a32389a07d",
        "colab": {}
      },
      "source": [
        "(bob_x_share + alices_x_share) % field"
      ],
      "execution_count": 0,
      "outputs": [
        {
          "output_type": "execute_result",
          "data": {
            "text/plain": [
              "5"
            ]
          },
          "metadata": {
            "tags": []
          },
          "execution_count": 8
        }
      ]
    },
    {
      "cell_type": "code",
      "metadata": {
        "id": "bs1aHLdWDNk-",
        "colab_type": "code",
        "colab": {}
      },
      "source": [
        "field = 10\n",
        "\n",
        "x = 5\n",
        "\n",
        "bob_x_share = 8\n",
        "alice_x_share = field - bob_x_share + x\n",
        "\n",
        "y = 1\n",
        "\n",
        "bob_y_share = 9\n",
        "alice_y_share = field - bob_y_share + y"
      ],
      "execution_count": 0,
      "outputs": []
    },
    {
      "cell_type": "code",
      "metadata": {
        "id": "MMAGJuYODNlA",
        "colab_type": "code",
        "outputId": "1fb42d8e-2ca2-451b-bd62-520635867541",
        "colab": {}
      },
      "source": [
        "((bob_x_share + alice_x_share) - (bob_y_share + alice_y_share)) % field"
      ],
      "execution_count": 0,
      "outputs": [
        {
          "output_type": "execute_result",
          "data": {
            "text/plain": [
              "4"
            ]
          },
          "metadata": {
            "tags": []
          },
          "execution_count": 10
        }
      ]
    },
    {
      "cell_type": "code",
      "metadata": {
        "id": "bKcAn93RDNlC",
        "colab_type": "code",
        "outputId": "d5fc67fb-1aee-41bd-907a-e086049309cf",
        "colab": {}
      },
      "source": [
        "((bob_x_share - bob_y_share) + (alice_x_share - alice_y_share)) % field"
      ],
      "execution_count": 0,
      "outputs": [
        {
          "output_type": "execute_result",
          "data": {
            "text/plain": [
              "4"
            ]
          },
          "metadata": {
            "tags": []
          },
          "execution_count": 11
        }
      ]
    },
    {
      "cell_type": "code",
      "metadata": {
        "id": "ktw2u_57DNlE",
        "colab_type": "code",
        "outputId": "917ded19-2f30-4ad9-a838-de0e8e3a5c15",
        "colab": {}
      },
      "source": [
        "bob_x_share + alice_x_share + bob_y_share + alice_y_share"
      ],
      "execution_count": 0,
      "outputs": [
        {
          "output_type": "execute_result",
          "data": {
            "text/plain": [
              "26"
            ]
          },
          "metadata": {
            "tags": []
          },
          "execution_count": 12
        }
      ]
    },
    {
      "cell_type": "code",
      "metadata": {
        "id": "A23B2iCSDNlG",
        "colab_type": "code",
        "colab": {}
      },
      "source": [
        "bob_z_share = (bob_x_share - bob_y_share)\n",
        "alice_z_share = (alice_x_share - alice_y_share)"
      ],
      "execution_count": 0,
      "outputs": []
    },
    {
      "cell_type": "code",
      "metadata": {
        "id": "w2WSles-DNlI",
        "colab_type": "code",
        "outputId": "8024f3bc-a8cf-4c2a-bcca-10fff5ee5352",
        "colab": {}
      },
      "source": [
        "(bob_z_share + alice_z_share) % field"
      ],
      "execution_count": 0,
      "outputs": [
        {
          "output_type": "execute_result",
          "data": {
            "text/plain": [
              "4"
            ]
          },
          "metadata": {
            "tags": []
          },
          "execution_count": 14
        }
      ]
    },
    {
      "cell_type": "code",
      "metadata": {
        "id": "YQIExTaXDNlK",
        "colab_type": "code",
        "colab": {}
      },
      "source": [
        "def sub(a, b):\n",
        "    c = list()\n",
        "    for i in range(len(a)):\n",
        "        c.append((a[i] - b[i]) % Q)\n",
        "    return tuple(c)"
      ],
      "execution_count": 0,
      "outputs": []
    },
    {
      "cell_type": "code",
      "metadata": {
        "id": "FAWqYKsADNlM",
        "colab_type": "code",
        "colab": {}
      },
      "source": [
        "field = 10\n",
        "\n",
        "x = 5\n",
        "\n",
        "bob_x_share = 8\n",
        "alice_x_share = field - bob_x_share + x\n",
        "\n",
        "y = 1\n",
        "\n",
        "bob_y_share = 9\n",
        "alice_y_share = field - bob_y_share + y"
      ],
      "execution_count": 0,
      "outputs": []
    },
    {
      "cell_type": "code",
      "metadata": {
        "id": "3PAafVPYDNlO",
        "colab_type": "code",
        "outputId": "84571f02-6bc3-46ad-a6b8-da662e549c32",
        "colab": {}
      },
      "source": [
        "bob_x_share + alice_x_share"
      ],
      "execution_count": 0,
      "outputs": [
        {
          "output_type": "execute_result",
          "data": {
            "text/plain": [
              "15"
            ]
          },
          "metadata": {
            "tags": []
          },
          "execution_count": 17
        }
      ]
    },
    {
      "cell_type": "code",
      "metadata": {
        "id": "aPuAD-P9DNlV",
        "colab_type": "code",
        "outputId": "116d960f-3818-4b8a-d454-9bb857bd31b8",
        "colab": {}
      },
      "source": [
        "bob_y_share + alice_y_share"
      ],
      "execution_count": 0,
      "outputs": [
        {
          "output_type": "execute_result",
          "data": {
            "text/plain": [
              "11"
            ]
          },
          "metadata": {
            "tags": []
          },
          "execution_count": 18
        }
      ]
    },
    {
      "cell_type": "code",
      "metadata": {
        "id": "LiYa5seQDNlY",
        "colab_type": "code",
        "outputId": "0312403e-68cf-4110-c2a0-e37664e20d63",
        "colab": {}
      },
      "source": [
        "((bob_y_share * 3) + (alice_y_share * 3)) % field"
      ],
      "execution_count": 0,
      "outputs": [
        {
          "output_type": "execute_result",
          "data": {
            "text/plain": [
              "3"
            ]
          },
          "metadata": {
            "tags": []
          },
          "execution_count": 19
        }
      ]
    },
    {
      "cell_type": "code",
      "metadata": {
        "id": "9j8WefbkDNlb",
        "colab_type": "code",
        "colab": {}
      },
      "source": [
        "def imul(a, scalar):\n",
        "    \n",
        "    # logic here which can multiply by a public scalar\n",
        "    \n",
        "    c = list()\n",
        "    \n",
        "    for i in range(len(a)):\n",
        "        c.append((a[i] * scalar) % Q)\n",
        "        \n",
        "    return tuple(c)"
      ],
      "execution_count": 0,
      "outputs": []
    },
    {
      "cell_type": "code",
      "metadata": {
        "id": "Zso7xGsTDNld",
        "colab_type": "code",
        "outputId": "57978068-0677-43e5-d46e-9493b6a07320",
        "colab": {}
      },
      "source": [
        "x = encrypt(encode(5.5))\n",
        "x"
      ],
      "execution_count": 0,
      "outputs": [
        {
          "output_type": "execute_result",
          "data": {
            "text/plain": [
              "[102429626723126324886479814859023395389,\n",
              " 119121291581510607047487749044084540899,\n",
              " 72422427170530315136477713877807808125]"
            ]
          },
          "metadata": {
            "tags": []
          },
          "execution_count": 21
        }
      ]
    },
    {
      "cell_type": "code",
      "metadata": {
        "id": "3T5MUxT7DNlf",
        "colab_type": "code",
        "colab": {}
      },
      "source": [
        "z = imul(x, 3)"
      ],
      "execution_count": 0,
      "outputs": []
    },
    {
      "cell_type": "code",
      "metadata": {
        "id": "-jpK4zt2DNlh",
        "colab_type": "code",
        "outputId": "210cc83c-e65e-4a26-908b-ea0faefc01b4",
        "colab": {}
      },
      "source": [
        "decode(decrypt(z))"
      ],
      "execution_count": 0,
      "outputs": [
        {
          "output_type": "execute_result",
          "data": {
            "text/plain": [
              "16.5"
            ]
          },
          "metadata": {
            "tags": []
          },
          "execution_count": 23
        }
      ]
    },
    {
      "cell_type": "markdown",
      "metadata": {
        "id": "nv3tbC2XDNlj",
        "colab_type": "text"
      },
      "source": [
        "# Lesson: Encrypted Computation in PySyft"
      ]
    },
    {
      "cell_type": "code",
      "metadata": {
        "id": "3C_CBrhPP2Wy",
        "colab_type": "code",
        "colab": {
          "base_uri": "https://localhost:8080/",
          "height": 1000
        },
        "outputId": "35a319bf-094e-4cdf-9076-abf6ca0991f4"
      },
      "source": [
        "!pip install syft"
      ],
      "execution_count": 7,
      "outputs": [
        {
          "output_type": "stream",
          "text": [
            "Collecting syft\n",
            "\u001b[?25l  Downloading https://files.pythonhosted.org/packages/dc/78/fc404dd6236e876f679b9f2f66f6d648f07d9d4938d8126a870b0a44fc4e/syft-0.1.28a1-py3-none-any.whl (309kB)\n",
            "\u001b[K     |████████████████████████████████| 317kB 4.8MB/s \n",
            "\u001b[?25hRequirement already satisfied: torch==1.1 in /usr/local/lib/python3.6/dist-packages (from syft) (1.1.0)\n",
            "Requirement already satisfied: torchvision==0.3.0 in /usr/local/lib/python3.6/dist-packages (from syft) (0.3.0)\n",
            "Collecting websockets>=7.0 (from syft)\n",
            "\u001b[?25l  Downloading https://files.pythonhosted.org/packages/f0/4b/ad228451b1c071c5c52616b7d4298ebcfcac5ae8515ede959db19e4cd56d/websockets-8.0.2-cp36-cp36m-manylinux1_x86_64.whl (72kB)\n",
            "\u001b[K     |████████████████████████████████| 81kB 30.7MB/s \n",
            "\u001b[?25hCollecting msgpack>=0.6.1 (from syft)\n",
            "\u001b[?25l  Downloading https://files.pythonhosted.org/packages/92/7e/ae9e91c1bb8d846efafd1f353476e3fd7309778b582d2fb4cea4cc15b9a2/msgpack-0.6.1-cp36-cp36m-manylinux1_x86_64.whl (248kB)\n",
            "\u001b[K     |████████████████████████████████| 256kB 60.0MB/s \n",
            "\u001b[?25hRequirement already satisfied: numpy>=1.14.0 in /usr/local/lib/python3.6/dist-packages (from syft) (1.16.5)\n",
            "Collecting lz4>=2.1.6 (from syft)\n",
            "\u001b[?25l  Downloading https://files.pythonhosted.org/packages/5d/5e/cedd32c203ce0303188b0c7ff8388bba3c33e4bf6da21ae789962c4fb2e7/lz4-2.2.1-cp36-cp36m-manylinux1_x86_64.whl (395kB)\n",
            "\u001b[K     |████████████████████████████████| 399kB 50.2MB/s \n",
            "\u001b[?25hCollecting websocket-client>=0.56.0 (from syft)\n",
            "\u001b[?25l  Downloading https://files.pythonhosted.org/packages/29/19/44753eab1fdb50770ac69605527e8859468f3c0fd7dc5a76dd9c4dbd7906/websocket_client-0.56.0-py2.py3-none-any.whl (200kB)\n",
            "\u001b[K     |████████████████████████████████| 204kB 54.6MB/s \n",
            "\u001b[?25hRequirement already satisfied: tblib>=1.4.0 in /usr/local/lib/python3.6/dist-packages (from syft) (1.4.0)\n",
            "Collecting flask-socketio>=3.3.2 (from syft)\n",
            "  Downloading https://files.pythonhosted.org/packages/66/44/edc4715af85671b943c18ac8345d0207972284a0cd630126ff5251faa08b/Flask_SocketIO-4.2.1-py2.py3-none-any.whl\n",
            "Collecting zstd>=1.4.0.0 (from syft)\n",
            "\u001b[?25l  Downloading https://files.pythonhosted.org/packages/ce/73/585134600c7fe918566adddf94af42b35cb0dad4b96ee0180190fbcbb954/zstd-1.4.3.2.tar.gz (456kB)\n",
            "\u001b[K     |████████████████████████████████| 460kB 49.4MB/s \n",
            "\u001b[?25hCollecting tf-encrypted!=0.5.7,>=0.5.4 (from syft)\n",
            "\u001b[?25l  Downloading https://files.pythonhosted.org/packages/1f/82/cf15aeac92525da2f794956712e7ebf418819390dec783430ee242b52d0b/tf_encrypted-0.5.8-py3-none-manylinux1_x86_64.whl (2.1MB)\n",
            "\u001b[K     |████████████████████████████████| 2.1MB 44.9MB/s \n",
            "\u001b[?25hRequirement already satisfied: Flask>=1.0.2 in /usr/local/lib/python3.6/dist-packages (from syft) (1.1.1)\n",
            "Requirement already satisfied: scikit-learn>=0.21.0 in /usr/local/lib/python3.6/dist-packages (from syft) (0.21.3)\n",
            "Requirement already satisfied: six in /usr/local/lib/python3.6/dist-packages (from torchvision==0.3.0->syft) (1.12.0)\n",
            "Requirement already satisfied: pillow>=4.1.1 in /usr/local/lib/python3.6/dist-packages (from torchvision==0.3.0->syft) (4.3.0)\n",
            "Collecting python-socketio>=4.3.0 (from flask-socketio>=3.3.2->syft)\n",
            "\u001b[?25l  Downloading https://files.pythonhosted.org/packages/35/b0/22c3f785f23fec5c7a815f47c55d7e7946a67ae2129ff604148e939d3bdb/python_socketio-4.3.1-py2.py3-none-any.whl (49kB)\n",
            "\u001b[K     |████████████████████████████████| 51kB 21.1MB/s \n",
            "\u001b[?25hCollecting pyyaml>=5.1 (from tf-encrypted!=0.5.7,>=0.5.4->syft)\n",
            "\u001b[?25l  Downloading https://files.pythonhosted.org/packages/e3/e8/b3212641ee2718d556df0f23f78de8303f068fe29cdaa7a91018849582fe/PyYAML-5.1.2.tar.gz (265kB)\n",
            "\u001b[K     |████████████████████████████████| 266kB 35.5MB/s \n",
            "\u001b[?25hRequirement already satisfied: tensorflow<2,>=1.12.0 in /usr/local/lib/python3.6/dist-packages (from tf-encrypted!=0.5.7,>=0.5.4->syft) (1.14.0)\n",
            "Requirement already satisfied: Werkzeug>=0.15 in /usr/local/lib/python3.6/dist-packages (from Flask>=1.0.2->syft) (0.15.6)\n",
            "Requirement already satisfied: itsdangerous>=0.24 in /usr/local/lib/python3.6/dist-packages (from Flask>=1.0.2->syft) (1.1.0)\n",
            "Requirement already satisfied: click>=5.1 in /usr/local/lib/python3.6/dist-packages (from Flask>=1.0.2->syft) (7.0)\n",
            "Requirement already satisfied: Jinja2>=2.10.1 in /usr/local/lib/python3.6/dist-packages (from Flask>=1.0.2->syft) (2.10.1)\n",
            "Requirement already satisfied: scipy>=0.17.0 in /usr/local/lib/python3.6/dist-packages (from scikit-learn>=0.21.0->syft) (1.3.1)\n",
            "Requirement already satisfied: joblib>=0.11 in /usr/local/lib/python3.6/dist-packages (from scikit-learn>=0.21.0->syft) (0.13.2)\n",
            "Requirement already satisfied: olefile in /usr/local/lib/python3.6/dist-packages (from pillow>=4.1.1->torchvision==0.3.0->syft) (0.46)\n",
            "Collecting python-engineio>=3.9.0 (from python-socketio>=4.3.0->flask-socketio>=3.3.2->syft)\n",
            "\u001b[?25l  Downloading https://files.pythonhosted.org/packages/2b/20/8e3ba16102ae2e245d70d9cb9fa48b076253fdb036dc43eea142294c2897/python_engineio-3.9.3-py2.py3-none-any.whl (119kB)\n",
            "\u001b[K     |████████████████████████████████| 122kB 55.6MB/s \n",
            "\u001b[?25hRequirement already satisfied: astor>=0.6.0 in /usr/local/lib/python3.6/dist-packages (from tensorflow<2,>=1.12.0->tf-encrypted!=0.5.7,>=0.5.4->syft) (0.8.0)\n",
            "Requirement already satisfied: grpcio>=1.8.6 in /usr/local/lib/python3.6/dist-packages (from tensorflow<2,>=1.12.0->tf-encrypted!=0.5.7,>=0.5.4->syft) (1.15.0)\n",
            "Requirement already satisfied: keras-applications>=1.0.6 in /usr/local/lib/python3.6/dist-packages (from tensorflow<2,>=1.12.0->tf-encrypted!=0.5.7,>=0.5.4->syft) (1.0.8)\n",
            "Requirement already satisfied: tensorflow-estimator<1.15.0rc0,>=1.14.0rc0 in /usr/local/lib/python3.6/dist-packages (from tensorflow<2,>=1.12.0->tf-encrypted!=0.5.7,>=0.5.4->syft) (1.14.0)\n",
            "Requirement already satisfied: termcolor>=1.1.0 in /usr/local/lib/python3.6/dist-packages (from tensorflow<2,>=1.12.0->tf-encrypted!=0.5.7,>=0.5.4->syft) (1.1.0)\n",
            "Requirement already satisfied: protobuf>=3.6.1 in /usr/local/lib/python3.6/dist-packages (from tensorflow<2,>=1.12.0->tf-encrypted!=0.5.7,>=0.5.4->syft) (3.7.1)\n",
            "Requirement already satisfied: google-pasta>=0.1.6 in /usr/local/lib/python3.6/dist-packages (from tensorflow<2,>=1.12.0->tf-encrypted!=0.5.7,>=0.5.4->syft) (0.1.7)\n",
            "Requirement already satisfied: wrapt>=1.11.1 in /usr/local/lib/python3.6/dist-packages (from tensorflow<2,>=1.12.0->tf-encrypted!=0.5.7,>=0.5.4->syft) (1.11.2)\n",
            "Requirement already satisfied: absl-py>=0.7.0 in /usr/local/lib/python3.6/dist-packages (from tensorflow<2,>=1.12.0->tf-encrypted!=0.5.7,>=0.5.4->syft) (0.8.0)\n",
            "Requirement already satisfied: tensorboard<1.15.0,>=1.14.0 in /usr/local/lib/python3.6/dist-packages (from tensorflow<2,>=1.12.0->tf-encrypted!=0.5.7,>=0.5.4->syft) (1.14.0)\n",
            "Requirement already satisfied: wheel>=0.26 in /usr/local/lib/python3.6/dist-packages (from tensorflow<2,>=1.12.0->tf-encrypted!=0.5.7,>=0.5.4->syft) (0.33.6)\n",
            "Requirement already satisfied: gast>=0.2.0 in /usr/local/lib/python3.6/dist-packages (from tensorflow<2,>=1.12.0->tf-encrypted!=0.5.7,>=0.5.4->syft) (0.2.2)\n",
            "Requirement already satisfied: keras-preprocessing>=1.0.5 in /usr/local/lib/python3.6/dist-packages (from tensorflow<2,>=1.12.0->tf-encrypted!=0.5.7,>=0.5.4->syft) (1.1.0)\n",
            "Requirement already satisfied: MarkupSafe>=0.23 in /usr/local/lib/python3.6/dist-packages (from Jinja2>=2.10.1->Flask>=1.0.2->syft) (1.1.1)\n",
            "Requirement already satisfied: h5py in /usr/local/lib/python3.6/dist-packages (from keras-applications>=1.0.6->tensorflow<2,>=1.12.0->tf-encrypted!=0.5.7,>=0.5.4->syft) (2.8.0)\n",
            "Requirement already satisfied: setuptools in /usr/local/lib/python3.6/dist-packages (from protobuf>=3.6.1->tensorflow<2,>=1.12.0->tf-encrypted!=0.5.7,>=0.5.4->syft) (41.2.0)\n",
            "Requirement already satisfied: markdown>=2.6.8 in /usr/local/lib/python3.6/dist-packages (from tensorboard<1.15.0,>=1.14.0->tensorflow<2,>=1.12.0->tf-encrypted!=0.5.7,>=0.5.4->syft) (3.1.1)\n",
            "Building wheels for collected packages: zstd, pyyaml\n",
            "  Building wheel for zstd (setup.py) ... \u001b[?25l\u001b[?25hdone\n",
            "  Created wheel for zstd: filename=zstd-1.4.3.2-cp36-cp36m-linux_x86_64.whl size=1076270 sha256=b6dcd01351a00793bbd5ac8cc7849ca99cf563d6fde985bb3c62e5a8950454a9\n",
            "  Stored in directory: /root/.cache/pip/wheels/f2/df/a8/405bafcabba88a18c8763694e79177e2a1bbc65ac0f6b3d728\n",
            "  Building wheel for pyyaml (setup.py) ... \u001b[?25l\u001b[?25hdone\n",
            "  Created wheel for pyyaml: filename=PyYAML-5.1.2-cp36-cp36m-linux_x86_64.whl size=44104 sha256=fbf6a0235db4da1899a78604af0ba6542512f952562c9f984b13efaa98cecf62\n",
            "  Stored in directory: /root/.cache/pip/wheels/d9/45/dd/65f0b38450c47cf7e5312883deb97d065e030c5cca0a365030\n",
            "Successfully built zstd pyyaml\n",
            "Installing collected packages: websockets, msgpack, lz4, websocket-client, python-engineio, python-socketio, flask-socketio, zstd, pyyaml, tf-encrypted, syft\n",
            "  Found existing installation: msgpack 0.5.6\n",
            "    Uninstalling msgpack-0.5.6:\n",
            "      Successfully uninstalled msgpack-0.5.6\n",
            "  Found existing installation: PyYAML 3.13\n",
            "    Uninstalling PyYAML-3.13:\n",
            "      Successfully uninstalled PyYAML-3.13\n",
            "Successfully installed flask-socketio-4.2.1 lz4-2.2.1 msgpack-0.6.1 python-engineio-3.9.3 python-socketio-4.3.1 pyyaml-5.1.2 syft-0.1.28a1 tf-encrypted-0.5.8 websocket-client-0.56.0 websockets-8.0.2 zstd-1.4.3.2\n"
          ],
          "name": "stdout"
        }
      ]
    },
    {
      "cell_type": "code",
      "metadata": {
        "id": "hWvSPVPoDNlk",
        "colab_type": "code",
        "colab": {
          "base_uri": "https://localhost:8080/",
          "height": 124
        },
        "outputId": "40fe6da4-cdc4-4db6-f14b-668cde4d52d0"
      },
      "source": [
        "import syft as sy\n",
        "import torch as th\n",
        "hook = sy.TorchHook(th)\n",
        "from torch import nn, optim"
      ],
      "execution_count": 8,
      "outputs": [
        {
          "output_type": "stream",
          "text": [
            "WARNING:tf_encrypted:Falling back to insecure randomness since the required custom op could not be found for the installed version of TensorFlow. Fix this by compiling custom ops. Missing file was '/usr/local/lib/python3.6/dist-packages/tf_encrypted/operations/secure_random/secure_random_module_tf_1.14.0.so'\n"
          ],
          "name": "stderr"
        },
        {
          "output_type": "stream",
          "text": [
            "WARNING:tensorflow:From /usr/local/lib/python3.6/dist-packages/tf_encrypted/session.py:26: The name tf.Session is deprecated. Please use tf.compat.v1.Session instead.\n",
            "\n"
          ],
          "name": "stdout"
        },
        {
          "output_type": "stream",
          "text": [
            "WARNING:tensorflow:From /usr/local/lib/python3.6/dist-packages/tf_encrypted/session.py:26: The name tf.Session is deprecated. Please use tf.compat.v1.Session instead.\n",
            "\n"
          ],
          "name": "stderr"
        }
      ]
    },
    {
      "cell_type": "code",
      "metadata": {
        "id": "kPuU8IniDNlm",
        "colab_type": "code",
        "colab": {
          "base_uri": "https://localhost:8080/",
          "height": 89
        },
        "outputId": "b3371c79-0e71-4eff-c45f-eb13d819c976"
      },
      "source": [
        "bob = sy.VirtualWorker(hook, id=\"bob\").add_worker(sy.local_worker)\n",
        "alice = sy.VirtualWorker(hook, id=\"alice\").add_worker(sy.local_worker)\n",
        "secure_worker = sy.VirtualWorker(hook, id=\"secure_worker\").add_worker(sy.local_worker)"
      ],
      "execution_count": 9,
      "outputs": [
        {
          "output_type": "stream",
          "text": [
            "WARNING:syft.workers.base:Worker me already exists. Replacing old worker which could cause                     unexpected behavior\n",
            "WARNING:syft.workers.base:Worker me already exists. Replacing old worker which could cause                     unexpected behavior\n",
            "WARNING:syft.workers.base:Worker me already exists. Replacing old worker which could cause                     unexpected behavior\n"
          ],
          "name": "stderr"
        }
      ]
    },
    {
      "cell_type": "code",
      "metadata": {
        "id": "Ep6M-LdwDNln",
        "colab_type": "code",
        "colab": {}
      },
      "source": [
        "x = th.tensor([1,2,3,4])\n",
        "y = th.tensor([2,-1,1,0])"
      ],
      "execution_count": 0,
      "outputs": []
    },
    {
      "cell_type": "code",
      "metadata": {
        "id": "nT7YZlrQDNlp",
        "colab_type": "code",
        "colab": {}
      },
      "source": [
        "x = x.share(bob, alice, crypto_provider=secure_worker)"
      ],
      "execution_count": 0,
      "outputs": []
    },
    {
      "cell_type": "code",
      "metadata": {
        "id": "v8faQg3WDNlr",
        "colab_type": "code",
        "colab": {}
      },
      "source": [
        "y = y.share(bob, alice, crypto_provider=secure_worker)"
      ],
      "execution_count": 0,
      "outputs": []
    },
    {
      "cell_type": "code",
      "metadata": {
        "id": "xyCN_gN6DNlt",
        "colab_type": "code",
        "outputId": "9c2b73d2-9250-4839-8395-2ee2df3feccc",
        "colab": {
          "base_uri": "https://localhost:8080/",
          "height": 34
        }
      },
      "source": [
        "z = x + y\n",
        "z.get()"
      ],
      "execution_count": 13,
      "outputs": [
        {
          "output_type": "execute_result",
          "data": {
            "text/plain": [
              "tensor([3, 1, 4, 4])"
            ]
          },
          "metadata": {
            "tags": []
          },
          "execution_count": 13
        }
      ]
    },
    {
      "cell_type": "code",
      "metadata": {
        "id": "21bVxi7HDNlw",
        "colab_type": "code",
        "outputId": "ac3d4b6c-acfa-461b-86ae-36c2f4762615",
        "colab": {
          "base_uri": "https://localhost:8080/",
          "height": 34
        }
      },
      "source": [
        "z = x - y\n",
        "z.get()"
      ],
      "execution_count": 14,
      "outputs": [
        {
          "output_type": "execute_result",
          "data": {
            "text/plain": [
              "tensor([-1,  3,  2,  4])"
            ]
          },
          "metadata": {
            "tags": []
          },
          "execution_count": 14
        }
      ]
    },
    {
      "cell_type": "code",
      "metadata": {
        "id": "fRMBqKjGDNly",
        "colab_type": "code",
        "outputId": "433c0e9a-42f1-4ecf-8162-7640fef8fe30",
        "colab": {
          "base_uri": "https://localhost:8080/",
          "height": 34
        }
      },
      "source": [
        "z = x * y\n",
        "z.get()"
      ],
      "execution_count": 15,
      "outputs": [
        {
          "output_type": "execute_result",
          "data": {
            "text/plain": [
              "tensor([ 2, -2,  3,  0])"
            ]
          },
          "metadata": {
            "tags": []
          },
          "execution_count": 15
        }
      ]
    },
    {
      "cell_type": "code",
      "metadata": {
        "id": "uNG05k_ADNl0",
        "colab_type": "code",
        "outputId": "de83d300-684e-4cd0-81b9-fd1c628040f4",
        "colab": {}
      },
      "source": [
        "z = x > y\n",
        "z.get()"
      ],
      "execution_count": 0,
      "outputs": [
        {
          "output_type": "execute_result",
          "data": {
            "text/plain": [
              "tensor([0, 1, 1, 1])"
            ]
          },
          "metadata": {
            "tags": []
          },
          "execution_count": 32
        }
      ]
    },
    {
      "cell_type": "code",
      "metadata": {
        "id": "fIEXe_Z1DNl2",
        "colab_type": "code",
        "outputId": "e015adbb-4df6-4160-d450-4ce42925640f",
        "colab": {}
      },
      "source": [
        "z = x < y\n",
        "z.get()"
      ],
      "execution_count": 0,
      "outputs": [
        {
          "output_type": "execute_result",
          "data": {
            "text/plain": [
              "tensor([1, 0, 0, 0])"
            ]
          },
          "metadata": {
            "tags": []
          },
          "execution_count": 33
        }
      ]
    },
    {
      "cell_type": "code",
      "metadata": {
        "id": "z322pkTmDNl4",
        "colab_type": "code",
        "outputId": "1d12c564-de66-45da-fcc1-1ab4bc7df954",
        "colab": {
          "base_uri": "https://localhost:8080/",
          "height": 34
        }
      },
      "source": [
        "z = x == y\n",
        "z.get()"
      ],
      "execution_count": 21,
      "outputs": [
        {
          "output_type": "execute_result",
          "data": {
            "text/plain": [
              "tensor([0, 0, 0, 0])"
            ]
          },
          "metadata": {
            "tags": []
          },
          "execution_count": 21
        }
      ]
    },
    {
      "cell_type": "code",
      "metadata": {
        "id": "VG1DD_P6DNl5",
        "colab_type": "code",
        "colab": {}
      },
      "source": [
        ""
      ],
      "execution_count": 0,
      "outputs": []
    },
    {
      "cell_type": "code",
      "metadata": {
        "id": "U0_jHgyCDNl6",
        "colab_type": "code",
        "colab": {}
      },
      "source": [
        "x = th.tensor([1,2,3,4])\n",
        "y = th.tensor([2,-1,1,0])\n",
        "\n",
        "x = x.fix_precision().share(bob, alice, crypto_provider=secure_worker)\n",
        "y = y.fix_precision().share(bob, alice, crypto_provider=secure_worker)"
      ],
      "execution_count": 0,
      "outputs": []
    },
    {
      "cell_type": "code",
      "metadata": {
        "id": "lw_WLzaIDNl8",
        "colab_type": "code",
        "outputId": "62d2800f-bed9-44b8-bc08-7f43fa3a7515",
        "colab": {
          "base_uri": "https://localhost:8080/",
          "height": 34
        }
      },
      "source": [
        "z = x + y\n",
        "z.get().float_precision()"
      ],
      "execution_count": 23,
      "outputs": [
        {
          "output_type": "execute_result",
          "data": {
            "text/plain": [
              "tensor([3., 1., 4., 4.])"
            ]
          },
          "metadata": {
            "tags": []
          },
          "execution_count": 23
        }
      ]
    },
    {
      "cell_type": "code",
      "metadata": {
        "id": "jEpnBThxDNl9",
        "colab_type": "code",
        "colab": {
          "base_uri": "https://localhost:8080/",
          "height": 34
        },
        "outputId": "e4b8f6d8-937b-435e-93a0-d4cbc95c30ba"
      },
      "source": [
        "z = x - y\n",
        "z.get().float_precision()"
      ],
      "execution_count": 24,
      "outputs": [
        {
          "output_type": "execute_result",
          "data": {
            "text/plain": [
              "tensor([-1.,  3.,  2.,  4.])"
            ]
          },
          "metadata": {
            "tags": []
          },
          "execution_count": 24
        }
      ]
    },
    {
      "cell_type": "code",
      "metadata": {
        "id": "cfW8EljEDNl-",
        "colab_type": "code",
        "colab": {
          "base_uri": "https://localhost:8080/",
          "height": 34
        },
        "outputId": "992d328a-91dc-4e6e-fbdf-aa9d5f21b853"
      },
      "source": [
        "z = x * y\n",
        "z.get().float_precision()"
      ],
      "execution_count": 25,
      "outputs": [
        {
          "output_type": "execute_result",
          "data": {
            "text/plain": [
              "tensor([ 2., -2.,  3.,  0.])"
            ]
          },
          "metadata": {
            "tags": []
          },
          "execution_count": 25
        }
      ]
    },
    {
      "cell_type": "code",
      "metadata": {
        "id": "cG5s9kJdDNl_",
        "colab_type": "code",
        "colab": {
          "base_uri": "https://localhost:8080/",
          "height": 34
        },
        "outputId": "2a4b194d-3acf-4df1-ca92-2121654e85b8"
      },
      "source": [
        "z = x > y\n",
        "z.get().float_precision()"
      ],
      "execution_count": 26,
      "outputs": [
        {
          "output_type": "execute_result",
          "data": {
            "text/plain": [
              "tensor([0., 1., 1., 1.])"
            ]
          },
          "metadata": {
            "tags": []
          },
          "execution_count": 26
        }
      ]
    },
    {
      "cell_type": "code",
      "metadata": {
        "id": "fsHKq_I_DNmB",
        "colab_type": "code",
        "colab": {
          "base_uri": "https://localhost:8080/",
          "height": 34
        },
        "outputId": "a79b8a23-22da-4ffe-a21c-1d01696b436c"
      },
      "source": [
        "z = x < y\n",
        "z.get().float_precision()"
      ],
      "execution_count": 27,
      "outputs": [
        {
          "output_type": "execute_result",
          "data": {
            "text/plain": [
              "tensor([1., 0., 0., 0.])"
            ]
          },
          "metadata": {
            "tags": []
          },
          "execution_count": 27
        }
      ]
    },
    {
      "cell_type": "code",
      "metadata": {
        "id": "akPVwErrDNmC",
        "colab_type": "code",
        "colab": {
          "base_uri": "https://localhost:8080/",
          "height": 34
        },
        "outputId": "ef3d8d75-891f-46e8-9d36-7d97c3c7c6b1"
      },
      "source": [
        "z = x == y\n",
        "z.get().float_precision()"
      ],
      "execution_count": 28,
      "outputs": [
        {
          "output_type": "execute_result",
          "data": {
            "text/plain": [
              "tensor([0., 0., 0., 0.])"
            ]
          },
          "metadata": {
            "tags": []
          },
          "execution_count": 28
        }
      ]
    },
    {
      "cell_type": "markdown",
      "metadata": {
        "id": "N0IV5fZEDNmT",
        "colab_type": "text"
      },
      "source": [
        "# Lesson: Encrypted Deep Learning in PyTorch"
      ]
    },
    {
      "cell_type": "markdown",
      "metadata": {
        "id": "CFwchrX4DNmU",
        "colab_type": "text"
      },
      "source": [
        "### Train a Model"
      ]
    },
    {
      "cell_type": "code",
      "metadata": {
        "id": "P_leZxGMDNmU",
        "colab_type": "code",
        "outputId": "3d4195f4-3097-44c8-cfeb-6a7774c82ac0",
        "colab": {
          "base_uri": "https://localhost:8080/",
          "height": 365
        }
      },
      "source": [
        "from torch import nn\n",
        "from torch import optim\n",
        "import torch.nn.functional as F\n",
        "\n",
        "# A Toy Dataset\n",
        "data = th.tensor([[0,0],[0,1],[1,0],[1,1.]], requires_grad=True)\n",
        "target = th.tensor([[0],[0],[1],[1.]], requires_grad=True)\n",
        "\n",
        "class Net(nn.Module):\n",
        "    def __init__(self):\n",
        "        super(Net, self).__init__()\n",
        "        self.fc1 = nn.Linear(2, 20)\n",
        "        self.fc2 = nn.Linear(20, 1)\n",
        "\n",
        "    def forward(self, x):\n",
        "        x = self.fc1(x)\n",
        "        x = F.relu(x)\n",
        "        x = self.fc2(x)\n",
        "        return x\n",
        "\n",
        "# A Toy Model\n",
        "model = Net()\n",
        "\n",
        "def train():\n",
        "    # Training Logic\n",
        "    opt = optim.SGD(params=model.parameters(),lr=0.1)\n",
        "    for iter in range(20):\n",
        "\n",
        "        # 1) erase previous gradients (if they exist)\n",
        "        opt.zero_grad()\n",
        "\n",
        "        # 2) make a prediction\n",
        "        pred = model(data)\n",
        "\n",
        "        # 3) calculate how much we missed\n",
        "        loss = ((pred - target)**2).sum()\n",
        "\n",
        "        # 4) figure out which weights caused us to miss\n",
        "        loss.backward()\n",
        "\n",
        "        # 5) change those weights\n",
        "        opt.step()\n",
        "\n",
        "        # 6) print our progress\n",
        "        print(loss.data)\n",
        "        \n",
        "train()"
      ],
      "execution_count": 34,
      "outputs": [
        {
          "output_type": "stream",
          "text": [
            "tensor(5.3720)\n",
            "tensor(6.8756)\n",
            "tensor(4.7913)\n",
            "tensor(0.6858)\n",
            "tensor(0.5776)\n",
            "tensor(0.4886)\n",
            "tensor(0.3997)\n",
            "tensor(0.3140)\n",
            "tensor(0.2406)\n",
            "tensor(0.1809)\n",
            "tensor(0.1320)\n",
            "tensor(0.0868)\n",
            "tensor(0.0581)\n",
            "tensor(0.0376)\n",
            "tensor(0.0229)\n",
            "tensor(0.0144)\n",
            "tensor(0.0098)\n",
            "tensor(0.0064)\n",
            "tensor(0.0043)\n",
            "tensor(0.0034)\n"
          ],
          "name": "stdout"
        }
      ]
    },
    {
      "cell_type": "code",
      "metadata": {
        "id": "9_d3Ms36DNmV",
        "colab_type": "code",
        "outputId": "145f261f-99a1-4717-e30d-ccf205cc901f",
        "colab": {
          "base_uri": "https://localhost:8080/",
          "height": 87
        }
      },
      "source": [
        "model(data)"
      ],
      "execution_count": 35,
      "outputs": [
        {
          "output_type": "execute_result",
          "data": {
            "text/plain": [
              "tensor([[-0.0155],\n",
              "        [ 0.0301],\n",
              "        [ 1.0066],\n",
              "        [ 0.9648]], grad_fn=<AddmmBackward>)"
            ]
          },
          "metadata": {
            "tags": []
          },
          "execution_count": 35
        }
      ]
    },
    {
      "cell_type": "markdown",
      "metadata": {
        "id": "JnaEJTwHDNmX",
        "colab_type": "text"
      },
      "source": [
        "## Encrypt the Model and Data"
      ]
    },
    {
      "cell_type": "code",
      "metadata": {
        "id": "SJO4VhqZDNmX",
        "colab_type": "code",
        "colab": {}
      },
      "source": [
        "encrypted_model = model.fix_precision().share(alice, bob, crypto_provider=secure_worker)"
      ],
      "execution_count": 0,
      "outputs": []
    },
    {
      "cell_type": "code",
      "metadata": {
        "id": "P4r4rS6bDNmY",
        "colab_type": "code",
        "outputId": "5dc93a0e-79ad-4b44-d6aa-b440dde46871",
        "colab": {
          "base_uri": "https://localhost:8080/",
          "height": 313
        }
      },
      "source": [
        "list(encrypted_model.parameters())"
      ],
      "execution_count": 37,
      "outputs": [
        {
          "output_type": "execute_result",
          "data": {
            "text/plain": [
              "[Parameter containing:\n",
              " Parameter>FixedPrecisionTensor>[AdditiveSharingTensor]\n",
              " \t-> [PointerTensor | me:66121832976 -> alice:89092981489]\n",
              " \t-> [PointerTensor | me:40891084221 -> bob:91933394550]\n",
              " \t*crypto provider: secure_worker*, Parameter containing:\n",
              " Parameter>FixedPrecisionTensor>[AdditiveSharingTensor]\n",
              " \t-> [PointerTensor | me:45506384263 -> alice:35430537013]\n",
              " \t-> [PointerTensor | me:65243024548 -> bob:62721619238]\n",
              " \t*crypto provider: secure_worker*, Parameter containing:\n",
              " Parameter>FixedPrecisionTensor>[AdditiveSharingTensor]\n",
              " \t-> [PointerTensor | me:78746641473 -> alice:88367938857]\n",
              " \t-> [PointerTensor | me:43681610 -> bob:41661911252]\n",
              " \t*crypto provider: secure_worker*, Parameter containing:\n",
              " Parameter>FixedPrecisionTensor>[AdditiveSharingTensor]\n",
              " \t-> [PointerTensor | me:21413317891 -> alice:83891226193]\n",
              " \t-> [PointerTensor | me:72043443664 -> bob:77151367751]\n",
              " \t*crypto provider: secure_worker*]"
            ]
          },
          "metadata": {
            "tags": []
          },
          "execution_count": 37
        }
      ]
    },
    {
      "cell_type": "code",
      "metadata": {
        "id": "-hMYYDakDNma",
        "colab_type": "code",
        "colab": {}
      },
      "source": [
        "encrypted_data = data.fix_precision().share(alice, bob, crypto_provider=secure_worker)"
      ],
      "execution_count": 0,
      "outputs": []
    },
    {
      "cell_type": "code",
      "metadata": {
        "id": "z1X4m7OCDNmd",
        "colab_type": "code",
        "outputId": "ca3a69c4-520a-4e3a-aaf8-6f264b24fd90",
        "colab": {
          "base_uri": "https://localhost:8080/",
          "height": 87
        }
      },
      "source": [
        "encrypted_data"
      ],
      "execution_count": 39,
      "outputs": [
        {
          "output_type": "execute_result",
          "data": {
            "text/plain": [
              "(Wrapper)>FixedPrecisionTensor>[AdditiveSharingTensor]\n",
              "\t-> [PointerTensor | me:36376295651 -> alice:55953713933]\n",
              "\t-> [PointerTensor | me:33321302504 -> bob:69393344308]\n",
              "\t*crypto provider: secure_worker*"
            ]
          },
          "metadata": {
            "tags": []
          },
          "execution_count": 39
        }
      ]
    },
    {
      "cell_type": "code",
      "metadata": {
        "id": "ehdpEFegDNmf",
        "colab_type": "code",
        "colab": {}
      },
      "source": [
        "encrypted_prediction = encrypted_model(encrypted_data)"
      ],
      "execution_count": 0,
      "outputs": []
    },
    {
      "cell_type": "code",
      "metadata": {
        "id": "pTv_Ly22DNmg",
        "colab_type": "code",
        "outputId": "a9a04e4e-5359-4f9b-dcba-2e86049b942d",
        "colab": {
          "base_uri": "https://localhost:8080/",
          "height": 87
        }
      },
      "source": [
        "encrypted_prediction.get().float_precision()"
      ],
      "execution_count": 41,
      "outputs": [
        {
          "output_type": "execute_result",
          "data": {
            "text/plain": [
              "tensor([[-0.0160],\n",
              "        [ 0.0290],\n",
              "        [ 1.0040],\n",
              "        [ 0.9630]])"
            ]
          },
          "metadata": {
            "tags": []
          },
          "execution_count": 41
        }
      ]
    },
    {
      "cell_type": "markdown",
      "metadata": {
        "id": "vNyGmzcrR0jY",
        "colab_type": "text"
      },
      "source": [
        "# Project\n",
        "Build an secrect sharing scheme for english text. "
      ]
    },
    {
      "cell_type": "code",
      "metadata": {
        "id": "NIzZ9kE3DNnH",
        "colab_type": "code",
        "colab": {}
      },
      "source": [
        "import random\n",
        "import numpy as np\n",
        "# try this project here!\n",
        "default_Q = 0 # choose a default Q\n",
        "\n",
        "def encrypt_text(x, n_shares=3, Q=default_Q):\n",
        "  # complete the code here\n",
        "  return x_shares\n",
        "\n",
        "\n",
        "def decrypt_text(x_shares, Q=default_Q):\n",
        "  # complete the code here\n",
        "  return x\n",
        "\n",
        "\n",
        "\n"
      ],
      "execution_count": 0,
      "outputs": []
    },
    {
      "cell_type": "code",
      "metadata": {
        "id": "4eEf2xfiDNnI",
        "colab_type": "code",
        "colab": {}
      },
      "source": [
        "# test\n",
        "text =\"\"\"\n",
        "You may write me down in history\n",
        "\n",
        "With your bitter, twisted lies,\n",
        "\n",
        "You may tread me in the very dirt\n",
        "\n",
        "But still, like dust, I’ll rise.\n",
        "\"\"\"\n",
        "\n",
        "decrypt_text(encrypt_text(text)) == text"
      ],
      "execution_count": 0,
      "outputs": []
    },
    {
      "cell_type": "code",
      "metadata": {
        "id": "lkUZqk1BDNnJ",
        "colab_type": "code",
        "colab": {}
      },
      "source": [
        ""
      ],
      "execution_count": 0,
      "outputs": []
    },
    {
      "cell_type": "code",
      "metadata": {
        "id": "yTQjwnMIDNnK",
        "colab_type": "code",
        "colab": {}
      },
      "source": [
        ""
      ],
      "execution_count": 0,
      "outputs": []
    },
    {
      "cell_type": "code",
      "metadata": {
        "id": "32CdzarzDNnM",
        "colab_type": "code",
        "colab": {}
      },
      "source": [
        ""
      ],
      "execution_count": 0,
      "outputs": []
    },
    {
      "cell_type": "code",
      "metadata": {
        "id": "ZJXn2qUTDNnO",
        "colab_type": "code",
        "colab": {}
      },
      "source": [
        ""
      ],
      "execution_count": 0,
      "outputs": []
    },
    {
      "cell_type": "code",
      "metadata": {
        "id": "PZzZUFYgDNnP",
        "colab_type": "code",
        "colab": {}
      },
      "source": [
        ""
      ],
      "execution_count": 0,
      "outputs": []
    },
    {
      "cell_type": "code",
      "metadata": {
        "id": "gAs7IN-JDNnQ",
        "colab_type": "code",
        "colab": {}
      },
      "source": [
        ""
      ],
      "execution_count": 0,
      "outputs": []
    }
  ]
}